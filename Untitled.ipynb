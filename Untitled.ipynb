{
 "cells": [
  {
   "cell_type": "code",
   "execution_count": 11,
   "metadata": {},
   "outputs": [],
   "source": [
    "from keras.applications.mobilenet import MobileNet\n",
    "from keras.applications.inception_v3 import InceptionV3\n",
    "from keras.applications.inception_resnet_v2 import InceptionResNetV2\n",
    "from keras.applications.vgg19 import VGG19\n",
    "from keras.applications.xception import Xception\n",
    "from keras.layers import Flatten, Dropout, Dense\n"
   ]
  },
  {
   "cell_type": "code",
   "execution_count": 12,
   "metadata": {
    "collapsed": true
   },
   "outputs": [],
   "source": [
    "def generate_model(application, num_class, img_size, pre_weights=None):\n",
    "    if application == 'InceptionV3':\n",
    "        base_model = InceptionV3(input_shape=(img_size, img_size, 3),\n",
    "                                 include_top=False,\n",
    "                                 weights=pre_weights)\n",
    "    elif application == 'MobileNet':\n",
    "        base_model = MobileNet(input_shape=(img_size, img_size, 3),\n",
    "                               include_top=False,\n",
    "                               weights=pre_weights)\n",
    "    elif application == 'VGG19':\n",
    "        base_model = VGG19(input_shape=(img_size, img_size, 3),\n",
    "                           weights=pre_weights,\n",
    "                           include_top=None)\n",
    "    elif application == 'InceptionResNetV2':\n",
    "        base_model = InceptionResNetV2(input_shape=(img_size, img_size, 3),\n",
    "                                       weights=pre_weights,\n",
    "                                       include_top=None)\n",
    "    elif application == 'Xception':\n",
    "        base_model = Xception(input_shape=(img_size, img_size, 3),\n",
    "                              weights=pre_weights,\n",
    "                              include_top=None)\n",
    "    else:\n",
    "        raise ('No specific aplication type!')\n",
    "\n",
    "    x = base_model.output\n",
    "    feature = Flatten(name='feature')(x)\n",
    "    predictions = Dropout(0.5)(feature)\n",
    "    #x = GlobalAveragePooling2D()(x)\n",
    "    #predictions = Dense(1024, activation='relu')(x)\n",
    "    predictions = Dense(num_class, activation='softmax',\n",
    "                        name='pred',\n",
    "                        kernel_initializer=RandomNormal(mean=0.0, stddev=0.001))(predictions)\n",
    "    model = Model(inputs=base_model.input, outputs=[predictions, feature])\n",
    "    #Model.summary(model)\n",
    "    return model"
   ]
  },
  {
   "cell_type": "code",
   "execution_count": 13,
   "metadata": {},
   "outputs": [
    {
     "ename": "NameError",
     "evalue": "name 'RandomNormal' is not defined",
     "output_type": "error",
     "traceback": [
      "\u001b[1;31m---------------------------------------------------------------------------\u001b[0m",
      "\u001b[1;31mNameError\u001b[0m                                 Traceback (most recent call last)",
      "\u001b[1;32m<ipython-input-13-0f036c206d43>\u001b[0m in \u001b[0;36m<module>\u001b[1;34m()\u001b[0m\n\u001b[1;32m----> 1\u001b[1;33m \u001b[0mgenerate_model\u001b[0m\u001b[1;33m(\u001b[0m\u001b[1;34m\"Xception\"\u001b[0m\u001b[1;33m,\u001b[0m \u001b[1;36m9\u001b[0m\u001b[1;33m,\u001b[0m \u001b[1;36m224\u001b[0m\u001b[1;33m,\u001b[0m \u001b[0mpre_weights\u001b[0m\u001b[1;33m=\u001b[0m\u001b[1;32mNone\u001b[0m\u001b[1;33m)\u001b[0m\u001b[1;33m\u001b[0m\u001b[0m\n\u001b[0m",
      "\u001b[1;32m<ipython-input-12-17eb490bf018>\u001b[0m in \u001b[0;36mgenerate_model\u001b[1;34m(application, num_class, img_size, pre_weights)\u001b[0m\n\u001b[0;32m     30\u001b[0m     predictions = Dense(num_class, activation='softmax',\n\u001b[0;32m     31\u001b[0m                         \u001b[0mname\u001b[0m\u001b[1;33m=\u001b[0m\u001b[1;34m'pred'\u001b[0m\u001b[1;33m,\u001b[0m\u001b[1;33m\u001b[0m\u001b[0m\n\u001b[1;32m---> 32\u001b[1;33m                         kernel_initializer=RandomNormal(mean=0.0, stddev=0.001))(predictions)\n\u001b[0m\u001b[0;32m     33\u001b[0m     \u001b[0mmodel\u001b[0m \u001b[1;33m=\u001b[0m \u001b[0mModel\u001b[0m\u001b[1;33m(\u001b[0m\u001b[0minputs\u001b[0m\u001b[1;33m=\u001b[0m\u001b[0mbase_model\u001b[0m\u001b[1;33m.\u001b[0m\u001b[0minput\u001b[0m\u001b[1;33m,\u001b[0m \u001b[0moutputs\u001b[0m\u001b[1;33m=\u001b[0m\u001b[1;33m[\u001b[0m\u001b[0mpredictions\u001b[0m\u001b[1;33m,\u001b[0m \u001b[0mfeature\u001b[0m\u001b[1;33m]\u001b[0m\u001b[1;33m)\u001b[0m\u001b[1;33m\u001b[0m\u001b[0m\n\u001b[0;32m     34\u001b[0m     \u001b[1;31m#Model.summary(model)\u001b[0m\u001b[1;33m\u001b[0m\u001b[1;33m\u001b[0m\u001b[0m\n",
      "\u001b[1;31mNameError\u001b[0m: name 'RandomNormal' is not defined"
     ]
    }
   ],
   "source": [
    "generate_model(\"Xception\", 9, 224, pre_weights=None)"
   ]
  },
  {
   "cell_type": "code",
   "execution_count": null,
   "metadata": {
    "collapsed": true
   },
   "outputs": [],
   "source": []
  }
 ],
 "metadata": {
  "kernelspec": {
   "display_name": "Python 3",
   "language": "python",
   "name": "python3"
  },
  "language_info": {
   "codemirror_mode": {
    "name": "ipython",
    "version": 3
   },
   "file_extension": ".py",
   "mimetype": "text/x-python",
   "name": "python",
   "nbconvert_exporter": "python",
   "pygments_lexer": "ipython3",
   "version": "3.5.2"
  }
 },
 "nbformat": 4,
 "nbformat_minor": 2
}
